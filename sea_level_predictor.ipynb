{
 "cells": [
  {
   "cell_type": "code",
   "execution_count": null,
   "metadata": {},
   "outputs": [],
   "source": [
    "import pandas as pd\n",
    "import matplotlib.pyplot as plt\n",
    "from scipy.stats import linregress\n",
    "\n",
    "def draw_plot():\n",
    "    # Read data from file\n",
    "    df = pd.read_csv('epa-sea-level.csv')\n",
    "    # Create scatter plot\n",
    "    fig, ax = plt.subplots()\n",
    "    ax.scatter(x= \"Year\", y = \"CSIRO Adjusted Sea Level\", data = df)\n",
    "    # Create first line of best fit\n",
    "    slope, intercept, r_value, p_value, std_err = linregress(df[\"Year\"], df[\"CSIRO Adjusted Sea Level\"])\n",
    "    years = pd.Series(range(1880,2050))\n",
    "    ax.plot(years, intercept + slope*years, 'r', label='first line of best fit')\n",
    "    # Create second line of best fit\n",
    "    df2 = df.loc[df[\"Year\"] >= 2000]\n",
    "    slope2, intercept2, r_value2, p_value2, std_err2 = linregress(df2[\"Year\"], df2[\"CSIRO Adjusted Sea Level\"])\n",
    "    years2 = pd.Series(range(2000,2050))\n",
    "    ax.plot(years2, intercept2 + slope2*years2, 'b', label='second line of best fit')\n",
    "    # Add labels and title\n",
    "    ax.set(xlabel=\"Year\", ylabel=\"Sea Level (inches)\", title=\"Rise in Sea Level\")\n",
    "    # Save plot and return data for testing (DO NOT MODIFY)\n",
    "    plt.savefig('sea_level_plot.png')\n",
    "    return plt.gca()"
   ]
  }
 ],
 "metadata": {
  "kernelspec": {
   "display_name": "Python 3",
   "language": "python",
   "name": "python3"
  },
  "language_info": {
   "codemirror_mode": {
    "name": "ipython",
    "version": 3
   },
   "file_extension": ".py",
   "mimetype": "text/x-python",
   "name": "python",
   "nbconvert_exporter": "python",
   "pygments_lexer": "ipython3",
   "version": "3.8.5"
  }
 },
 "nbformat": 4,
 "nbformat_minor": 4
}
