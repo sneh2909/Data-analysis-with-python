{
 "cells": [
  {
   "cell_type": "code",
   "execution_count": null,
   "metadata": {},
   "outputs": [],
   "source": [
    "import matplotlib.pyplot as plt\n",
    "import pandas as pd\n",
    "import seaborn as sns\n",
    "from pandas.plotting import register_matplotlib_converters\n",
    "register_matplotlib_converters()\n",
    "\n",
    "# Import data (Make sure to parse dates. Consider setting index column to 'date'.)\n",
    "df = pd.read_csv(\"fcc-forum-pageviews.csv\", index_col=\"date\" , parse_dates=True)\n",
    "\n",
    "# Clean data\n",
    "df = df[ df[\"value\"].between( df[\"value\"].quantile(.025), df[\"value\"].quantile(.975) ) ]\n",
    "months= ['January', 'February', 'March', 'April', 'May', 'June', 'July', 'August', 'September', 'October', 'November', 'December']\n",
    "def draw_line_plot():\n",
    "    # Draw line plot\n",
    "    fig, ax = plt.subplots(figsize=(15,5))\n",
    "    ax = sns.lineplot(data = df, legend=\"brief\")\n",
    "    ax.set(title='Daily freeCodeCamp Forum Page Views 5/2016-12/2019')\n",
    "    ax.set(xlabel = \"Date\",ylabel = \"Page Views\")\n",
    "    # Save image and return fig (don't change this part)\n",
    "    fig.savefig('line_plot.png')\n",
    "    return fig\n",
    "\n",
    "def draw_bar_plot():\n",
    "    # Copy and modify data for monthly bar plot\n",
    "    df_bar = df.copy()\n",
    "    df_bar[\"year\"] = df.index.year.values\n",
    "    df_bar[\"month\"] = df.index.month_name()\n",
    "    # Draw bar plot\n",
    "    fig, ax = plt.subplots(figsize=(15,5))\n",
    "    \n",
    "    ax = sns.barplot(x=\"year\", hue=\"month\", y=\"value\", data=df_bar, hue_order = months, ci=None )\n",
    "    ax.set(xlabel = \"Years\",ylabel = \"Average Page Views\")\n",
    "    # Save image and return fig (don't change this part)\n",
    "    fig.savefig('bar_plot.png')\n",
    "    return fig\n",
    "\n",
    "\n",
    "def draw_box_plot():\n",
    "    # Prepare data for box plots (this part is done!)\n",
    "    df_box = df.copy()\n",
    "    df_box.reset_index(inplace=True)\n",
    "    df_box['year'] = [d.year for d in df_box.date]\n",
    "    df_box['month'] = [d.strftime('%b') for d in df_box.date]\n",
    "\n",
    "    # Draw box plots (using Seaborn)\n",
    "    df_box['monthnumber'] = df.index.month\n",
    "    df_box = df_box.sort_values('monthnumber')\n",
    "    fig, ax = plt.subplots(1,2,figsize=(16,6))\n",
    "    sns.boxplot(y = \"value\", x = \"year\", data = df_box, ax = ax[0] ) \n",
    "    ax[0].set(xlabel=\"Year\", ylabel=\"Page Views\", title=\"Year-wise Box Plot (Trend)\")\n",
    "    sns.boxplot(y = \"value\", x = \"month\", data = df_box, ax = ax[1])\n",
    "    ax[1].set(xlabel=\"Month\", ylabel=\"Page Views\", title=\"Month-wise Box Plot (Seasonality)\")\n",
    "    # Save image and return fig (don't change this part)\n",
    "    fig.savefig('box_plot.png')\n",
    "    return fig"
   ]
  }
 ],
 "metadata": {
  "kernelspec": {
   "display_name": "Python 3",
   "language": "python",
   "name": "python3"
  },
  "language_info": {
   "codemirror_mode": {
    "name": "ipython",
    "version": 3
   },
   "file_extension": ".py",
   "mimetype": "text/x-python",
   "name": "python",
   "nbconvert_exporter": "python",
   "pygments_lexer": "ipython3",
   "version": "3.8.5"
  }
 },
 "nbformat": 4,
 "nbformat_minor": 4
}
